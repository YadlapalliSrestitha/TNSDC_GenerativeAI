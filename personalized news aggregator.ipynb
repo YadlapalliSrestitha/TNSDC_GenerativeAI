{
  "nbformat": 4,
  "nbformat_minor": 0,
  "metadata": {
    "colab": {
      "provenance": []
    },
    "kernelspec": {
      "name": "python3",
      "display_name": "Python 3"
    },
    "language_info": {
      "name": "python"
    }
  },
  "cells": [
    {
      "cell_type": "code",
      "execution_count": 1,
      "metadata": {
        "colab": {
          "base_uri": "https://localhost:8080/"
        },
        "id": "d0o0s2dbUTpn",
        "outputId": "2641a657-e762-4141-ba20-8660a2caddb0"
      },
      "outputs": [
        {
          "output_type": "stream",
          "name": "stdout",
          "text": [
            "Filtered Articles:\n",
            "1. Study Shows Benefits of Meditation - A new study suggests that regular meditation can have numerous health benefits.\n",
            "   Source: Health Magazine\n",
            "   URL: https://example.com/health_news1\n",
            "\n",
            "2. Healthy Eating Tips for Busy Professionals - Nutritionists share tips for maintaining a healthy diet amidst a busy schedule.\n",
            "   Source: Health Magazine\n",
            "   URL: https://example.com/health_news2\n",
            "\n"
          ]
        }
      ],
      "source": [
        "import csv\n",
        "import requests\n",
        "\n",
        "def fetch_news(api_key, query):\n",
        "    url = '/content/news_data.csv'\n",
        "    response = requests.get(url)\n",
        "    data = response.json()\n",
        "    articles = data.get('articles', [])\n",
        "    return articles\n",
        "\n",
        "def filter_articles(articles, preferences):\n",
        "    filtered_articles = []\n",
        "    for article in articles:\n",
        "        for preference in preferences:\n",
        "            if preference.lower() in article['title'].lower() or preference.lower() in article['description'].lower():\n",
        "                filtered_articles.append(article)\n",
        "                break\n",
        "    return filtered_articles\n",
        "\n",
        "def main():\n",
        "    # Load data from CSV file\n",
        "    with open('news_data.csv', 'r', newline='', encoding='utf-8') as csvfile:\n",
        "        reader = csv.DictReader(csvfile)\n",
        "        articles = list(reader)\n",
        "\n",
        "    # News API Key (get your API key from https://newsapi.org/)\n",
        "    api_key = 'YOUR_NEWS_API_KEY'\n",
        "    # User preferences\n",
        "    preferences = ['technology', 'sports', 'health']  # Example preferences\n",
        "\n",
        "    # Filter articles based on user preferences\n",
        "    filtered_articles = filter_articles(articles, preferences)\n",
        "\n",
        "    # Display filtered articles\n",
        "    print(\"Filtered Articles:\")\n",
        "    for idx, article in enumerate(filtered_articles, start=1):\n",
        "        print(f\"{idx}. {article['title']} - {article['description']}\")\n",
        "        print(f\"   Source: {article['source']}\")\n",
        "        print(f\"   URL: {article['url']}\")\n",
        "        print()\n",
        "\n",
        "if __name__ == \"__main__\":\n",
        "    main()\n"
      ]
    }
  ]
}